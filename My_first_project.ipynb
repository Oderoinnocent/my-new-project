{
  "nbformat": 4,
  "nbformat_minor": 0,
  "metadata": {
    "colab": {
      "provenance": [],
      "authorship_tag": "ABX9TyOKNsh40i5o3hWkRsXGKyyb",
      "include_colab_link": true
    },
    "kernelspec": {
      "name": "python3",
      "display_name": "Python 3"
    },
    "language_info": {
      "name": "python"
    }
  },
  "cells": [
    {
      "cell_type": "markdown",
      "metadata": {
        "id": "view-in-github",
        "colab_type": "text"
      },
      "source": [
        "<a href=\"https://colab.research.google.com/github/Oderoinnocent/my-new-project/blob/main/My_first_project.ipynb\" target=\"_parent\"><img src=\"https://colab.research.google.com/assets/colab-badge.svg\" alt=\"Open In Colab\"/></a>"
      ]
    },
    {
      "cell_type": "code",
      "execution_count": 1,
      "metadata": {
        "colab": {
          "base_uri": "https://localhost:8080/"
        },
        "id": "iIa5PNZmWkN6",
        "outputId": "db091eab-e33c-40c5-d74d-029730e3c4fb"
      },
      "outputs": [
        {
          "output_type": "execute_result",
          "data": {
            "text/plain": [
              "str"
            ]
          },
          "metadata": {},
          "execution_count": 1
        }
      ],
      "source": [
        "type('INNOCENT')"
      ]
    },
    {
      "cell_type": "code",
      "source": [
        "type (True)"
      ],
      "metadata": {
        "colab": {
          "base_uri": "https://localhost:8080/"
        },
        "id": "-gKffYRpZLQ4",
        "outputId": "043adc78-3e92-46ce-d23c-c1de51ad19d9"
      },
      "execution_count": 6,
      "outputs": [
        {
          "output_type": "execute_result",
          "data": {
            "text/plain": [
              "bool"
            ]
          },
          "metadata": {},
          "execution_count": 6
        }
      ]
    },
    {
      "cell_type": "code",
      "source": [
        "name = 'odero'\n",
        "print(name)"
      ],
      "metadata": {
        "colab": {
          "base_uri": "https://localhost:8080/"
        },
        "id": "537nCnXFZpLZ",
        "outputId": "7bd1f0db-1caf-4ced-f3b6-0583ea210564"
      },
      "execution_count": 8,
      "outputs": [
        {
          "output_type": "stream",
          "name": "stdout",
          "text": [
            "odero\n"
          ]
        }
      ]
    },
    {
      "cell_type": "code",
      "source": [
        "f_name = 'odero'\n",
        "l_name = 'innocent'\n",
        "name = (f_name+''+ l_name)"
      ],
      "metadata": {
        "id": "R9pM01QDaDQ7"
      },
      "execution_count": 11,
      "outputs": []
    },
    {
      "cell_type": "code",
      "source": [
        "print(name)"
      ],
      "metadata": {
        "colab": {
          "base_uri": "https://localhost:8080/"
        },
        "id": "dSH1pYgzbAQM",
        "outputId": "8a6ed22d-dc09-4bd2-b76e-09ef73dd5aa4"
      },
      "execution_count": 12,
      "outputs": [
        {
          "output_type": "stream",
          "name": "stdout",
          "text": [
            "oderoinnocent\n"
          ]
        }
      ]
    }
  ]
}